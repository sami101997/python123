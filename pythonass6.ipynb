{
 "cells": [
  {
   "cell_type": "code",
   "execution_count": 1,
   "id": "3cdfa896-828a-4316-8a79-90c1bf0d53ae",
   "metadata": {},
   "outputs": [
    {
     "name": "stdout",
     "output_type": "stream",
     "text": [
      "Fibonacci sequence:\n",
      "0\n",
      "1\n",
      "1\n",
      "2\n",
      "3\n",
      "5\n",
      "8\n",
      "13\n",
      "21\n",
      "34\n"
     ]
    }
   ],
   "source": [
    "# Python program to display the Fibonacci sequence\n",
    "\n",
    "def recur_fibo(n):\n",
    "   if n <= 1:\n",
    "       return n\n",
    "   else:\n",
    "       return(recur_fibo(n-1) + recur_fibo(n-2))\n",
    "\n",
    "nterms = 10\n",
    "\n",
    "# check if the number of terms is valid\n",
    "if nterms <= 0:\n",
    "   print(\"Plese enter a positive integer\")\n",
    "else:\n",
    "   print(\"Fibonacci sequence:\")\n",
    "   for i in range(nterms):\n",
    "       print(recur_fibo(i))\n"
   ]
  },
  {
   "cell_type": "code",
   "execution_count": 4,
   "id": "2faa0565-aae1-48fe-b6a7-14d13bc56c4a",
   "metadata": {},
   "outputs": [
    {
     "name": "stdout",
     "output_type": "stream",
     "text": [
      "The factorial of 7 is 5040\n"
     ]
    }
   ],
   "source": [
    "# Factorial of a number using recursion\n",
    "\n",
    "def recur_factorial(n):\n",
    "   if n == 1:\n",
    "       return n\n",
    "   else:\n",
    "       return n*recur_factorial(n-1)\n",
    "\n",
    "num = 7\n",
    "\n",
    "# check if the number is negative\n",
    "if num < 0:\n",
    "   print(\"Sorry, factorial does not exist for negative numbers\")\n",
    "elif num == 0:\n",
    "   print(\"The factorial of 0 is 1\")\n",
    "else:\n",
    "   print(\"The factorial of\", num, \"is\", recur_factorial(num))\n"
   ]
  },
  {
   "cell_type": "code",
   "execution_count": 6,
   "id": "4da4e478-06ce-4eb2-bb3e-ee441881dbc1",
   "metadata": {},
   "outputs": [
    {
     "name": "stdin",
     "output_type": "stream",
     "text": [
      "Input your height in Feet:  50\n",
      "Input your weight in Kilograms:  15\n"
     ]
    },
    {
     "name": "stdout",
     "output_type": "stream",
     "text": [
      "Your body mass index is:  0.01\n"
     ]
    }
   ],
   "source": [
    "# Prompt the user to input their height in feet and convert it to a floating-point number.\n",
    "height = float(input(\"Input your height in Feet: \"))\n",
    "\n",
    "# Prompt the user to input their weight in kilograms and convert it to a floating-point number.\n",
    "weight = float(input(\"Input your weight in Kilograms: \"))\n",
    "\n",
    "# Calculate the body mass index (BMI) using the provided height and weight and round it to 2 decimal places.\n",
    "bmi = weight / (height * height)\n",
    "rounded_bmi = round(bmi, 2)\n",
    "\n",
    "# Print the calculated BMI.\n",
    "print(\"Your body mass index is: \", rounded_bmi)\n"
   ]
  },
  {
   "cell_type": "code",
   "execution_count": 8,
   "id": "84fd7564-fc4e-451f-b0dc-9f302e09feda",
   "metadata": {},
   "outputs": [
    {
     "name": "stdout",
     "output_type": "stream",
     "text": [
      "Logarithm(1+a) value of 14 is : 2.70805020110221\n"
     ]
    }
   ],
   "source": [
    "# Python code to demonstrate the working of\n",
    "# log1p(a)\n",
    "\n",
    "import math\n",
    "\n",
    "# Printing the log(1+a) of 14\n",
    "print (\"Logarithm(1+a) value of 14 is : \", end=\"\")\n",
    "print (math.log1p(14))\n"
   ]
  },
  {
   "cell_type": "code",
   "execution_count": 10,
   "id": "4d182ff2-dae0-45cb-b280-08a5b5cdeec1",
   "metadata": {},
   "outputs": [
    {
     "name": "stdout",
     "output_type": "stream",
     "text": [
      "225\n"
     ]
    }
   ],
   "source": [
    "# Simple Python program to find sum of series\n",
    "# with cubes of first n natural numbers\n",
    "\n",
    "# Returns the sum of series \n",
    "def sumOfSeries(n):\n",
    "    sum = 0\n",
    "    for i in range(1, n + 1):\n",
    "        sum += i * i*i\n",
    "        \n",
    "    return sum\n",
    "\n",
    "\n",
    "# Driver Function\n",
    "n = 5\n",
    "print(sumOfSeries(n))\n",
    "\n",
    "# Code Contributed by Mohit Gupta_OMG <(0_o)>\n"
   ]
  },
  {
   "cell_type": "code",
   "execution_count": null,
   "id": "60871e13-2522-4562-99b8-1ba2b1c41c4f",
   "metadata": {},
   "outputs": [],
   "source": []
  }
 ],
 "metadata": {
  "kernelspec": {
   "display_name": "Python 3 (ipykernel)",
   "language": "python",
   "name": "python3"
  },
  "language_info": {
   "codemirror_mode": {
    "name": "ipython",
    "version": 3
   },
   "file_extension": ".py",
   "mimetype": "text/x-python",
   "name": "python",
   "nbconvert_exporter": "python",
   "pygments_lexer": "ipython3",
   "version": "3.12.4"
  }
 },
 "nbformat": 4,
 "nbformat_minor": 5
}
