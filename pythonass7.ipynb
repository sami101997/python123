{
 "cells": [
  {
   "cell_type": "code",
   "execution_count": 1,
   "id": "96eb1627-ee65-4fad-bacb-5c483f69e002",
   "metadata": {},
   "outputs": [
    {
     "name": "stdout",
     "output_type": "stream",
     "text": [
      "The Sum of total Array Item= 15\n",
      "The Sum of total Array Item= 140\n",
      "The Sum of total Array Item= 170\n",
      "The Sum of total Array Item= 200\n",
      "The Sum of total Array Item= 250\n",
      "The Sum of total Array Item= 1201\n"
     ]
    }
   ],
   "source": [
    "import numpy as np\n",
    "sumArr = np.array([15,125,30,30,50,951])\n",
    "total=0\n",
    "i=0\n",
    "while(i<len(sumArr)):\n",
    "    total = total + sumArr[i]\n",
    "    i=i+1\n",
    "    print(\"The Sum of total Array Item=\",total)"
   ]
  },
  {
   "cell_type": "code",
   "execution_count": 13,
   "id": "a8692632-ea43-494b-a0e2-2330aeb5f52b",
   "metadata": {},
   "outputs": [],
   "source": [
    "lst=[-1,-2,-3,6,4]\n",
    "def mximum(x):\n",
    "    max=x[0]\n",
    "    for i in x:\n",
    "        if i>max:\n",
    "            max=i\n",
    "            print('so far max',max)\n",
    "            print('\\n out of loop',max)\n",
    "            maximum(lst)"
   ]
  },
  {
   "cell_type": "code",
   "execution_count": 15,
   "id": "bd0ad79b-d8e4-4479-a702-7431b87b09d9",
   "metadata": {},
   "outputs": [
    {
     "name": "stdout",
     "output_type": "stream",
     "text": [
      "Array after left rotation is:  [3, 4, 5, 6, 7, 1, 2]\n"
     ]
    }
   ],
   "source": [
    "# function to rotate array by d elements using temp array\n",
    "def rotateArray(arr, n, d):\n",
    "\ttemp = []\n",
    "\ti = 0\n",
    "\twhile (i < d):\n",
    "\t\ttemp.append(arr[i])\n",
    "\t\ti = i + 1\n",
    "\ti = 0\n",
    "\twhile (d < n):\n",
    "\t\tarr[i] = arr[d]\n",
    "\t\ti = i + 1\n",
    "\t\td = d + 1\n",
    "\tarr[:] = arr[: i] + temp\n",
    "\treturn arr\n",
    "\n",
    "\n",
    "# Driver function to test above function\n",
    "arr = [1, 2, 3, 4, 5, 6, 7]\n",
    "print(\"Array after left rotation is: \", end=' ')\n",
    "print(rotateArray(arr, len(arr), 2))\n"
   ]
  },
  {
   "cell_type": "code",
   "execution_count": 17,
   "id": "42b4517a-ed29-42fe-8723-d9583030b8f8",
   "metadata": {},
   "outputs": [
    {
     "name": "stdout",
     "output_type": "stream",
     "text": [
      "5 6 52 36 12 10 "
     ]
    }
   ],
   "source": [
    "# Python program to split array and move first\n",
    "# part to end.\n",
    "\n",
    "\n",
    "def splitArr(arr, n, k):\n",
    "\tfor i in range(0, k):\n",
    "\t\tx = arr[0]\n",
    "\t\tfor j in range(0, n-1):\n",
    "\t\t\tarr[j] = arr[j + 1]\n",
    "\n",
    "\t\tarr[n-1] = x\n",
    "\n",
    "\n",
    "# main\n",
    "arr = [12, 10, 5, 6, 52, 36]\n",
    "n = len(arr)\n",
    "position = 2\n",
    "\n",
    "splitArr(arr, n, position)\n",
    "\n",
    "for i in range(0, n):\n",
    "\tprint(arr[i], end=' ')\n",
    "\n",
    "# Code Contributed by Mohit Gupta_OMG <(0_o)>\n"
   ]
  },
  {
   "cell_type": "code",
   "execution_count": 19,
   "id": "cfe2e079-fe15-404b-9f2b-74c8fdbf8413",
   "metadata": {},
   "outputs": [
    {
     "name": "stdout",
     "output_type": "stream",
     "text": [
      "True\n"
     ]
    }
   ],
   "source": [
    "# Check if given array is Monotonic\n",
    "def isMonotonic(A):\n",
    "    x, y = [], []\n",
    "    x.extend(A)\n",
    "    y.extend(A)\n",
    "    x.sort()\n",
    "    y.sort(reverse=True)\n",
    "    if(x == A or y == A):\n",
    "        return True\n",
    "    return False\n",
    "\n",
    "\n",
    "# Driver program\n",
    "A = [6, 5, 4, 4]\n",
    "\n",
    "# Print required result\n",
    "print(isMonotonic(A))\n"
   ]
  },
  {
   "cell_type": "code",
   "execution_count": null,
   "id": "8f05c28c-5030-43dd-8c45-e28b59a80425",
   "metadata": {},
   "outputs": [],
   "source": []
  }
 ],
 "metadata": {
  "kernelspec": {
   "display_name": "Python 3 (ipykernel)",
   "language": "python",
   "name": "python3"
  },
  "language_info": {
   "codemirror_mode": {
    "name": "ipython",
    "version": 3
   },
   "file_extension": ".py",
   "mimetype": "text/x-python",
   "name": "python",
   "nbconvert_exporter": "python",
   "pygments_lexer": "ipython3",
   "version": "3.12.4"
  }
 },
 "nbformat": 4,
 "nbformat_minor": 5
}
