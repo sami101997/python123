{
 "cells": [
  {
   "cell_type": "code",
   "execution_count": 30,
   "id": "fad435da-f4dc-400a-a25a-7f2bc8bc839b",
   "metadata": {},
   "outputs": [
    {
     "ename": "IndentationError",
     "evalue": "expected an indented block after 'for' statement on line 2 (1850780789.py, line 3)",
     "output_type": "error",
     "traceback": [
      "\u001b[1;36m  Cell \u001b[1;32mIn[30], line 3\u001b[1;36m\u001b[0m\n\u001b[1;33m    if num % 5==0 and num % 7==0:\u001b[0m\n\u001b[1;37m    ^\u001b[0m\n\u001b[1;31mIndentationError\u001b[0m\u001b[1;31m:\u001b[0m expected an indented block after 'for' statement on line 2\n"
     ]
    }
   ],
   "source": [
    "def divisible_by_5_and_7(n):\n",
    "    for num in range(n+1):\n",
    "    if num % 5==0 and num % 7==0:\n",
    "    yield num\n",
    "    n= int(input(\"Enter a number:\"))\n",
    "    print(\",\".join(map(str(num for num in divisible_by_5_and_7(n)))))"
   ]
  },
  {
   "cell_type": "code",
   "execution_count": 32,
   "id": "fe815b4b-d559-4d37-b9b1-03aed7505216",
   "metadata": {},
   "outputs": [
    {
     "name": "stdin",
     "output_type": "stream",
     "text": [
      "Enter a positive integer (n):  4\n"
     ]
    },
    {
     "name": "stdout",
     "output_type": "stream",
     "text": [
      "0, 2, 4\n"
     ]
    }
   ],
   "source": [
    "def even_numbers(n):\n",
    "    for i in range(n + 1):\n",
    "        if i % 2 == 0:\n",
    "            yield i\n",
    "\n",
    "def main():\n",
    "    try:\n",
    "        n = int(input(\"Enter a positive integer (n): \"))\n",
    "        if n < 0:\n",
    "            print(\"Please enter a positive integer.\")\n",
    "            return\n",
    "        even_gen = even_numbers(n)\n",
    "        even_list = list(even_gen)\n",
    "        print(*even_list, sep=\", \")\n",
    "    except ValueError:\n",
    "        print(\"Invalid input. Please enter a valid positive integer.\")\n",
    "\n",
    "if __name__ == \"__main__\":\n",
    "    main()\n"
   ]
  },
  {
   "cell_type": "code",
   "execution_count": 40,
   "id": "4fdf4904-efdc-4dc4-980e-4d3dd2c4f073",
   "metadata": {},
   "outputs": [
    {
     "name": "stdout",
     "output_type": "stream",
     "text": [
      "[1, 1, 2, 3, 5, 8, 13, 21, 34, 55]\n"
     ]
    }
   ],
   "source": [
    "def Fibonacci(n):\n",
    "    f0, f1 = 1, 1\n",
    "    for _ in range(n):\n",
    "        yield f0\n",
    "        f0, f1 = f1, f0+f1\n",
    "\n",
    "fibs = list(Fibonacci(10))\n",
    "print (fibs)"
   ]
  },
  {
   "cell_type": "code",
   "execution_count": 42,
   "id": "5c73e098-94c1-4ca3-81da-d2b1b50a202f",
   "metadata": {},
   "outputs": [
    {
     "name": "stdout",
     "output_type": "stream",
     "text": [
      "james\n",
      "donald\n"
     ]
    }
   ],
   "source": [
    "import re\n",
    "\n",
    "email_addresses = ['james@google.com', 'donald@hotmail.com']\n",
    "\n",
    "for email in email_addresses:\n",
    "    result = re.match(r'(\\w+)@(\\w+\\.com)', email)\n",
    "    if result:\n",
    "        print(result.group(1))"
   ]
  },
  {
   "cell_type": "code",
   "execution_count": 46,
   "id": "566adb22-0b16-4be1-86fa-72e784c1c3a3",
   "metadata": {},
   "outputs": [
    {
     "name": "stdout",
     "output_type": "stream",
     "text": [
      "Area of the square: 25\n"
     ]
    }
   ],
   "source": [
    "class Shape:\n",
    "    def __init__(self):\n",
    "        pass\n",
    "\n",
    "    def area(self):\n",
    "        return 0\n",
    "\n",
    "class Square(Shape):\n",
    "    def __init__(self, length):\n",
    "        super().__init__()\n",
    "        self.length = length\n",
    "\n",
    "    def area(self):\n",
    "        return self.length ** 2\n",
    "\n",
    "# Example usage:\n",
    "square = Square(5)\n",
    "print(\"Area of the square:\", square.area())  # Output: Area of the square: 25\n"
   ]
  },
  {
   "cell_type": "code",
   "execution_count": null,
   "id": "e2068cfd-44e0-463b-a1bd-d9ef0fd12478",
   "metadata": {},
   "outputs": [],
   "source": []
  }
 ],
 "metadata": {
  "kernelspec": {
   "display_name": "Python 3 (ipykernel)",
   "language": "python",
   "name": "python3"
  },
  "language_info": {
   "codemirror_mode": {
    "name": "ipython",
    "version": 3
   },
   "file_extension": ".py",
   "mimetype": "text/x-python",
   "name": "python",
   "nbconvert_exporter": "python",
   "pygments_lexer": "ipython3",
   "version": "3.12.4"
  }
 },
 "nbformat": 4,
 "nbformat_minor": 5
}
