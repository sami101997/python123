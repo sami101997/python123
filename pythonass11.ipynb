{
 "cells": [
  {
   "cell_type": "code",
   "execution_count": 1,
   "id": "983845f5-d9d3-43a3-a112-374c8bc3847c",
   "metadata": {},
   "outputs": [
    {
     "name": "stdout",
     "output_type": "stream",
     "text": [
      "['geek', 'geeks']\n"
     ]
    }
   ],
   "source": [
    "# Python program to find all string\n",
    "# which are greater than given length k\n",
    "\n",
    "# function find string greater than length k\n",
    "\n",
    "\n",
    "def string_k(k, str):\n",
    "\n",
    "\t# create the empty string\n",
    "\tstring = []\n",
    "\n",
    "\t# split the string where space is comes\n",
    "\ttext = str.split(\" \")\n",
    "\n",
    "\t# iterate the loop till every substring\n",
    "\tfor x in text:\n",
    "\n",
    "\t\t# if length of current sub string\n",
    "\t\t# is greater than k then\n",
    "\t\tif len(x) > k:\n",
    "\n",
    "\t\t\t# append this sub string in\n",
    "\t\t\t# string list\n",
    "\t\t\tstring.append(x)\n",
    "\n",
    "\t# return string list\n",
    "\treturn string\n",
    "\n",
    "\n",
    "# Driver Program\n",
    "k = 3\n",
    "str = \"geek for geeks\"\n",
    "print(string_k(k, str))\n"
   ]
  },
  {
   "cell_type": "code",
   "execution_count": 5,
   "id": "106c954b-f578-4ad2-8dbf-e47be8bece0f",
   "metadata": {},
   "outputs": [
    {
     "name": "stdout",
     "output_type": "stream",
     "text": [
      "geeksORgeeks\n"
     ]
    }
   ],
   "source": [
    "# Python3 program for removing i-th \n",
    "# indexed character from a string \n",
    "\n",
    "# Removes character at index i \n",
    "\n",
    "\n",
    "def remove(string, i): \n",
    "\n",
    "\t# Characters before the i-th indexed \n",
    "\t# is stored in a variable a \n",
    "\ta = string[: i] \n",
    "\n",
    "\t# Characters after the nth indexed \n",
    "\t# is stored in a variable b \n",
    "\tb = string[i + 1:] \n",
    "\n",
    "\t# Returning string after removing \n",
    "\t# nth indexed character. \n",
    "\treturn a + b \n",
    "\n",
    "\n",
    "# Driver Code \n",
    "if __name__ == '__main__': \n",
    "\n",
    "\tstring = \"geeksFORgeeks\"\n",
    "\n",
    "\t# Remove nth index element \n",
    "\ti = 5\n",
    "\n",
    "\t# Print the new string \n",
    "\tprint(remove(string, i)) \n"
   ]
  },
  {
   "cell_type": "code",
   "execution_count": 7,
   "id": "2b074002-a646-4101-9b46-e3e53a54f5ae",
   "metadata": {},
   "outputs": [
    {
     "name": "stdout",
     "output_type": "stream",
     "text": [
      "['Geeks', 'for', 'Geeks']\n",
      "Geeks-for-Geeks\n"
     ]
    }
   ],
   "source": [
    "# Python program to split a string and \n",
    "# join it using different delimiter\n",
    "\n",
    "def split_string(string):\n",
    "\n",
    "\t# Split the string based on space delimiter\n",
    "\tlist_string = string.split(' ')\n",
    "\t\n",
    "\treturn list_string\n",
    "\n",
    "def join_string(list_string):\n",
    "\n",
    "\t# Join the string based on '-' delimiter\n",
    "\tstring = '-'.join(list_string)\n",
    "\t\n",
    "\treturn string\n",
    "\n",
    "# Driver Function\n",
    "if __name__ == '__main__':\n",
    "\tstring = 'Geeks for Geeks'\n",
    "\t\n",
    "\t# Splitting a string\n",
    "\tlist_string = split_string(string)\n",
    "\tprint(list_string)\n",
    "\n",
    "\t# Join list of strings into one\n",
    "\tnew_string = join_string(list_string)\n",
    "\tprint(new_string)\n"
   ]
  },
  {
   "cell_type": "code",
   "execution_count": 9,
   "id": "4b8a875c-1de9-48dc-912b-c1248df88eb9",
   "metadata": {},
   "outputs": [
    {
     "name": "stdout",
     "output_type": "stream",
     "text": [
      "Yes\n"
     ]
    }
   ],
   "source": [
    "# Python program to check\n",
    "# if a string is binary or not\n",
    "\n",
    "# function for checking the\n",
    "# string is accepted or not\n",
    "\n",
    "\n",
    "def check(string):\n",
    "\n",
    "\t# set function convert string\n",
    "\t# into set of characters .\n",
    "\tp = set(string)\n",
    "\n",
    "\t# declare set of '0', '1' .\n",
    "\ts = {'0', '1'}\n",
    "\n",
    "\t# check set p is same as set s\n",
    "\t# or set p contains only '0'\n",
    "\t# or set p contains only '1'\n",
    "\t# or not, if any one condition\n",
    "\t# is true then string is accepted\n",
    "\t# otherwise not .\n",
    "\tif s == p or p == {'0'} or p == {'1'}:\n",
    "\t\tprint(\"Yes\")\n",
    "\telse:\n",
    "\t\tprint(\"No\")\n",
    "\n",
    "\n",
    "# driver code\n",
    "if __name__ == \"__main__\":\n",
    "\n",
    "\tstring = \"101010000111\"\n",
    "\n",
    "\t# function calling\n",
    "\tcheck(string)\n"
   ]
  },
  {
   "cell_type": "code",
   "execution_count": 11,
   "id": "90e529a3-e495-4a58-9c6f-cdafbc6e3b8f",
   "metadata": {},
   "outputs": [
    {
     "name": "stdout",
     "output_type": "stream",
     "text": [
      "['Learning', 'from']\n"
     ]
    }
   ],
   "source": [
    "# Python3 program to find a list of uncommon words\n",
    "\n",
    "# Function to return all uncommon words\n",
    "\n",
    "\n",
    "def UncommonWords(A, B):\n",
    "\n",
    "\t# count will contain all the word counts\n",
    "\tcount = {}\n",
    "\n",
    "\t# insert words of string A to hash\n",
    "\tfor word in A.split():\n",
    "\t\tcount[word] = count.get(word, 0) + 1\n",
    "\n",
    "\t# insert words of string B to hash\n",
    "\tfor word in B.split():\n",
    "\t\tcount[word] = count.get(word, 0) + 1\n",
    "\n",
    "\t# return required list of words\n",
    "\treturn [word for word in count if count[word] == 1]\n",
    "\n",
    "\n",
    "# Driver Code\n",
    "A = \"Geeks for Geeks\"\n",
    "B = \"Learning from Geeks for Geeks\"\n",
    "\n",
    "# Print required answer\n",
    "print(UncommonWords(A, B))\n"
   ]
  },
  {
   "cell_type": "code",
   "execution_count": 14,
   "id": "cade9a70-6aa9-483a-8a9e-9e3370f993c8",
   "metadata": {},
   "outputs": [
    {
     "name": "stdout",
     "output_type": "stream",
     "text": [
      "['g', 'e', 'k', 's']\n"
     ]
    }
   ],
   "source": [
    "def duplicate_characters(string):\n",
    "\t# Create an empty dictionary\n",
    "\tchars = {}\n",
    "\n",
    "\t# Iterate through each character in the string\n",
    "\tfor char in string:\n",
    "\t\t# If the character is not in the dictionary, add it\n",
    "\t\tif char not in chars:\n",
    "\t\t\tchars[char] = 1\n",
    "\t\telse:\n",
    "\t\t\t# If the character is already in the dictionary, increment the count\n",
    "\t\t\tchars[char] += 1\n",
    "\n",
    "\t# Create a list to store the duplicate characters\n",
    "\tduplicates = []\n",
    "\n",
    "\t# Iterate through the dictionary to find characters with count greater than 1\n",
    "\tfor char, count in chars.items():\n",
    "\t\tif count > 1:\n",
    "\t\t\tduplicates.append(char)\n",
    "\n",
    "\treturn duplicates\n",
    "\n",
    "# Test cases\n",
    "print(duplicate_characters(\"geeksforgeeks\"))\n"
   ]
  },
  {
   "cell_type": "code",
   "execution_count": 18,
   "id": "cf116e98-d5e5-4992-90c0-5faf18c57c7c",
   "metadata": {},
   "outputs": [
    {
     "name": "stdout",
     "output_type": "stream",
     "text": [
      "String is not accepted.\n"
     ]
    },
    {
     "name": "stderr",
     "output_type": "stream",
     "text": [
      "<>:13: SyntaxWarning: invalid escape sequence '\\|'\n",
      "<>:13: SyntaxWarning: invalid escape sequence '\\|'\n",
      "C:\\Users\\DELL\\AppData\\Local\\Temp\\ipykernel_108\\1982629930.py:13: SyntaxWarning: invalid escape sequence '\\|'\n",
      "  regex = re.compile('[@_!#$%^&*()<>?/\\|}{~:]')\n"
     ]
    }
   ],
   "source": [
    "# Python3 program to check if a string\n",
    "# contains any special character\n",
    "\n",
    "# import required package\n",
    "import re\n",
    "\n",
    "# Function checks if the string\n",
    "# contains any special character\n",
    "def run(string):\n",
    "\n",
    "    # Make own character set and pass \n",
    "    # this as argument in compile method\n",
    "    regex = re.compile('[@_!#$%^&*()<>?/\\|}{~:]')\n",
    "    \n",
    "    # Pass the string in search \n",
    "    # method of regex object.    \n",
    "    if(regex.search(string) == None):\n",
    "        print(\"String is accepted\")\n",
    "        \n",
    "    else:\n",
    "        print(\"String is not accepted.\")\n",
    "    \n",
    "\n",
    "# Driver Code\n",
    "if __name__ == '__main__' :\n",
    "    \n",
    "    # Enter the string\n",
    "    string = \"Geeks$For$Geeks\"\n",
    "    \n",
    "    # calling run function \n",
    "    run(string)\n"
   ]
  },
  {
   "cell_type": "code",
   "execution_count": null,
   "id": "15ba9050-8608-4a60-96dd-6c763c7074d4",
   "metadata": {},
   "outputs": [],
   "source": []
  }
 ],
 "metadata": {
  "kernelspec": {
   "display_name": "Python 3 (ipykernel)",
   "language": "python",
   "name": "python3"
  },
  "language_info": {
   "codemirror_mode": {
    "name": "ipython",
    "version": 3
   },
   "file_extension": ".py",
   "mimetype": "text/x-python",
   "name": "python",
   "nbconvert_exporter": "python",
   "pygments_lexer": "ipython3",
   "version": "3.12.4"
  }
 },
 "nbformat": 4,
 "nbformat_minor": 5
}
