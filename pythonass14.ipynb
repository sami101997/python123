{
 "cells": [
  {
   "cell_type": "code",
   "execution_count": 29,
   "id": "b0bacd16-807e-4970-9d3d-0cdb7848a8ed",
   "metadata": {},
   "outputs": [],
   "source": [
    "class DivisibleBySeven:\n",
    "    def _init_(self, n):\n",
    "        self.n=n\n",
    "    def seven_divisible_generator(self):\n",
    "        for num in range(0, self.n+1):\n",
    "            if num % 7==0:\n",
    "                yield num\n",
    "                divisible_by_seven= DivisibleByseven(100)\n",
    "                for num in divisible_by_seven.seven_divisible_generator():\n",
    "                    print(num)"
   ]
  },
  {
   "cell_type": "code",
   "execution_count": 31,
   "id": "bb768e45-1021-4142-a3cf-17e40135e3ee",
   "metadata": {},
   "outputs": [],
   "source": [
    "def word_frequency(input_string):\n",
    "    words=input_string.split()\n",
    "    frequency={}\n",
    "    word=word.lower()\n",
    "    if word in frequency:\n",
    "        frequency[word]+=1\n",
    "    else:\n",
    "        frequency[word]=1\n",
    "        for word in sorted(frequency.keys()):\n",
    "            print(f\"{word}:{frequency[word]}\")\n",
    "            input_string=\"This is a test string. This string is for testing.\"\n",
    "            word_frequency(input_string)"
   ]
  },
  {
   "cell_type": "code",
   "execution_count": 35,
   "id": "33d926b5-cb66-446c-8aee-37b219f3b950",
   "metadata": {},
   "outputs": [],
   "source": [
    "class Person:\n",
    "    def _init_(self):\n",
    "        pass\n",
    "        def getGender(self):\n",
    "            pass\n",
    "            class Male(Person):\n",
    "                def getGender(self):\n",
    "                    return\"Male\"\n",
    "                    class Female(Person):\n",
    "                        def getGender(self):\n",
    "                            return \"Female\"\n",
    "                            male_person=Male()\n",
    "                            female_person=Female()\n",
    "                            print(male_person.getGender())\n",
    "                            print(female_person.getGender())"
   ]
  },
  {
   "cell_type": "code",
   "execution_count": 39,
   "id": "f7375160-6c17-4816-ac82-06488dfcdb7e",
   "metadata": {},
   "outputs": [
    {
     "name": "stdout",
     "output_type": "stream",
     "text": [
      "IPlayHockey\n",
      "IPlayFootball\n",
      "ILoveHockey\n",
      "ILoveFootball\n",
      "YouLHockey\n",
      "YouLFootball\n",
      "YouoHockey\n",
      "YouoFootball\n",
      "YouvHockey\n",
      "YouvFootball\n",
      "YoueHockey\n",
      "YoueFootball\n"
     ]
    }
   ],
   "source": [
    "subjects=[\"I\",\"You\"]\n",
    "verbs=[\"Play\",\"Love\"]\n",
    "objects=[\"Hockey\",\"Football\"]\n",
    "for subject in subjects:\n",
    "    for verbs in verbs:\n",
    "        for object in objects:\n",
    "            sentence=f\"{subject}{verbs}{object}\"\n",
    "            print(sentence)"
   ]
  },
  {
   "cell_type": "code",
   "execution_count": 53,
   "id": "742777da-0933-4805-8846-b94f2ce03ff2",
   "metadata": {},
   "outputs": [],
   "source": [
    "def compress(s):\n",
    "    compress=[]\n",
    "    i=0\n",
    "    while i< len(s):\n",
    "        count=1\n",
    "        while i+1< len(s) and s[i]==s[i+1]:\n",
    "            i+=1\n",
    "            count+=1\n",
    "            compressed.append(s[i] +str(count))\n",
    "            i+=1\n",
    "            return \".join(compressed)\"\n",
    "            def decompress(s):\n",
    "                decompressed=[]\n",
    "                for i in range(0, len(s), 2):\n",
    "                    char=s[i]\n",
    "                    count =int(s[i+1])\n",
    "                    decompressed.append(char*count)\n",
    "                    return \".join(decompressed)\"\n",
    "                    original_string = \"hello world!hello world!hello world!hello world!\"\n",
    "                    compressed_string= compress(original_string)\n",
    "                    decompressed_string=(compressed_string)\n",
    "                    print(\"Original string:\", original_string)\n",
    "                    print(\"Compressed string:\", compressed_string)\n",
    "                    print(\"Decompressed string:\", decompressed_string)"
   ]
  },
  {
   "cell_type": "code",
   "execution_count": 59,
   "id": "28122cbe-17d1-4ce8-93d1-393c023f259f",
   "metadata": {},
   "outputs": [],
   "source": [
    "def binary_search(sorted_list, target):\n",
    "    high= len(sorted_list)-1\n",
    "    while low<=high:\n",
    "        mid=(low+high)//2\n",
    "        guess= sorted_list[mid]\n",
    "        if guess==target:\n",
    "            return mid\n",
    "        elif guess>target:\n",
    "            low=mid-1\n",
    "        else:\n",
    "            low=mid+1\n",
    "            return None"
   ]
  },
  {
   "cell_type": "code",
   "execution_count": null,
   "id": "c7b26c78-bb7d-441c-a976-8481a32afac3",
   "metadata": {},
   "outputs": [],
   "source": []
  }
 ],
 "metadata": {
  "kernelspec": {
   "display_name": "Python 3 (ipykernel)",
   "language": "python",
   "name": "python3"
  },
  "language_info": {
   "codemirror_mode": {
    "name": "ipython",
    "version": 3
   },
   "file_extension": ".py",
   "mimetype": "text/x-python",
   "name": "python",
   "nbconvert_exporter": "python",
   "pygments_lexer": "ipython3",
   "version": "3.12.4"
  }
 },
 "nbformat": 4,
 "nbformat_minor": 5
}
