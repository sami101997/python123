{
 "cells": [
  {
   "cell_type": "code",
   "execution_count": 2,
   "id": "efe03b72-4a49-4819-a1c3-11d1782fed10",
   "metadata": {},
   "outputs": [
    {
     "name": "stdout",
     "output_type": "stream",
     "text": [
      "Sum of all elements in given list:  74\n"
     ]
    }
   ],
   "source": [
    "# Python program to find sum of elements in list\n",
    "total = 0\n",
    "# creating a list\n",
    "list1 = [11, 5, 17, 18, 23]\n",
    "# Iterate each element in list\n",
    "# and add them in variable total\n",
    "for ele in list1:\n",
    "\ttotal+=ele\n",
    "# printing total value\n",
    "print(\"Sum of all elements in given list: \", total)\n"
   ]
  },
  {
   "cell_type": "code",
   "execution_count": 25,
   "id": "0747270d-397c-412a-8b48-098fb13c36ac",
   "metadata": {},
   "outputs": [],
   "source": [
    "def multiplyList(myList):\n",
    " result=1\n",
    " for x in mylist:\n",
    "    result = result*x\n",
    "    return result\n",
    "    list1 = [1,2,3]\n",
    "    list2 = [3,2,4]\n",
    "    print(multiplyList(list1))\n",
    "    print(multiplyList(list2))"
   ]
  },
  {
   "cell_type": "code",
   "execution_count": 27,
   "id": "865f65e0-8306-4ae9-a963-861ea06d2dae",
   "metadata": {},
   "outputs": [],
   "source": [
    "def smallest(list):\n",
    "    small=list[0]\n",
    "    for i in list:\n",
    "        if i<small:\n",
    "            small=i\n",
    "            return small\n",
    "            list=[3,9,7,3,6,5,7,24,6]\n",
    "            print(\"smallest in \",list,\"is\")\n",
    "            print(smallest(list))"
   ]
  },
  {
   "cell_type": "code",
   "execution_count": 29,
   "id": "830f1747-de49-4f98-a8e5-931097654575",
   "metadata": {},
   "outputs": [
    {
     "name": "stdout",
     "output_type": "stream",
     "text": [
      "Largest element is : 23\n"
     ]
    }
   ],
   "source": [
    "list=[10,20,4,45,99]\n",
    "list1.sort()\n",
    "print(\"Largest element is :\",list1[-1])"
   ]
  },
  {
   "cell_type": "code",
   "execution_count": 31,
   "id": "7b9db4b8-d16a-4be8-acfd-85fd5f4fd4ef",
   "metadata": {},
   "outputs": [
    {
     "ename": "TypeError",
     "evalue": "'list' object is not callable",
     "output_type": "error",
     "traceback": [
      "\u001b[1;31m---------------------------------------------------------------------------\u001b[0m",
      "\u001b[1;31mTypeError\u001b[0m                                 Traceback (most recent call last)",
      "Cell \u001b[1;32mIn[31], line 2\u001b[0m\n\u001b[0;32m      1\u001b[0m list1\u001b[38;5;241m=\u001b[39m[\u001b[38;5;241m10\u001b[39m,\u001b[38;5;241m20\u001b[39m,\u001b[38;5;241m20\u001b[39m,\u001b[38;5;241m4\u001b[39m,\u001b[38;5;241m45\u001b[39m,\u001b[38;5;241m45\u001b[39m,\u001b[38;5;241m45\u001b[39m,\u001b[38;5;241m99\u001b[39m,\u001b[38;5;241m99\u001b[39m]\n\u001b[1;32m----> 2\u001b[0m list2\u001b[38;5;241m=\u001b[39m \u001b[38;5;28mlist\u001b[39m(\u001b[38;5;28mset\u001b[39m(list1))\n\u001b[0;32m      3\u001b[0m list2\u001b[38;5;241m.\u001b[39msort()\n\u001b[0;32m      4\u001b[0m \u001b[38;5;28mprint\u001b[39m(\u001b[38;5;124m\"\u001b[39m\u001b[38;5;124msecond largest element is:\u001b[39m\u001b[38;5;124m\"\u001b[39m,list2[\u001b[38;5;241m-\u001b[39m\u001b[38;5;241m2\u001b[39m])\n",
      "\u001b[1;31mTypeError\u001b[0m: 'list' object is not callable"
     ]
    }
   ],
   "source": [
    "list1=[10,20,20,4,45,45,45,99,99]\n",
    "list2= list(set(list1))\n",
    "list2.sort()\n",
    "print(\"second largest element is:\",list2[-2])"
   ]
  },
  {
   "cell_type": "code",
   "execution_count": 33,
   "id": "432344d9-f72d-4418-a471-382200db3af3",
   "metadata": {},
   "outputs": [
    {
     "name": "stdout",
     "output_type": "stream",
     "text": [
      "[85, 41]\n"
     ]
    }
   ],
   "source": [
    "# Python program to find N largest\n",
    "# element from given list of integers\n",
    "\n",
    "# Function returns N largest elements\n",
    "\n",
    "\n",
    "def Nmaxelements(list1, N):\n",
    "\tfinal_list = []\n",
    "\n",
    "\tfor i in range(0, N):\n",
    "\t\tmax1 = 0\n",
    "\n",
    "\t\tfor j in range(len(list1)):\n",
    "\t\t\tif list1[j] > max1:\n",
    "\t\t\t\tmax1 = list1[j]\n",
    "\n",
    "\t\tlist1.remove(max1)\n",
    "\t\tfinal_list.append(max1)\n",
    "\n",
    "\tprint(final_list)\n",
    "\n",
    "\n",
    "# Driver code\n",
    "list1 = [2, 6, 41, 85, 0, 3, 7, 6, 10]\n",
    "N = 2\n",
    "\n",
    "# Calling the function\n",
    "Nmaxelements(list1, N)\n"
   ]
  },
  {
   "cell_type": "code",
   "execution_count": 35,
   "id": "0e83ed96-eac1-4207-815f-209f05810a3d",
   "metadata": {},
   "outputs": [
    {
     "name": "stdout",
     "output_type": "stream",
     "text": [
      "10 4 66 "
     ]
    }
   ],
   "source": [
    "# Python program to print Even Numbers in a List\n",
    "\n",
    "# list of numbers\n",
    "list1 = [10, 21, 4, 45, 66, 93]\n",
    "\n",
    "# iterating each number in list\n",
    "for num in list1:\n",
    "\n",
    "    # checking condition\n",
    "    if num % 2 == 0:\n",
    "        print(num, end=\" \")\n"
   ]
  },
  {
   "cell_type": "code",
   "execution_count": 37,
   "id": "26096bf6-58dc-4009-af5c-63273f143da7",
   "metadata": {},
   "outputs": [
    {
     "name": "stdout",
     "output_type": "stream",
     "text": [
      "21 45 93 "
     ]
    }
   ],
   "source": [
    "# Python program to print odd Numbers in a List\n",
    "\n",
    "# list of numbers\n",
    "list1 = [10, 21, 4, 45, 66, 93]\n",
    "\n",
    "# iterating each number in list\n",
    "for num in list1:\n",
    "\n",
    "    # checking condition\n",
    "    if num % 2 != 0:\n",
    "       print(num, end=\" \")\n"
   ]
  },
  {
   "cell_type": "code",
   "execution_count": 39,
   "id": "61dad702-8245-4b6a-9375-0938e3c86286",
   "metadata": {},
   "outputs": [
    {
     "name": "stdout",
     "output_type": "stream",
     "text": [
      "The original list is : [5, 6, [], 3, [], [], 9]\n",
      "List after empty list removal : [5, 6, 3, 9]\n"
     ]
    }
   ],
   "source": [
    "# Python3 code to Demonstrate Remove empty List\n",
    "# from List using list comprehension\n",
    "\n",
    "# Initializing list\n",
    "test_list = [5, 6, [], 3, [], [], 9]\n",
    "\n",
    "# printing original list\n",
    "print(\"The original list is : \" + str(test_list))\n",
    "\n",
    "# Remove empty List from List\n",
    "# using list comprehension\n",
    "res = [ele for ele in test_list if ele != []]\n",
    "\n",
    "# printing result\n",
    "print(\"List after empty list removal : \" + str(res))\n"
   ]
  },
  {
   "cell_type": "code",
   "execution_count": 41,
   "id": "d7e7bf6a-d1c8-48b6-be40-ff122d32f49a",
   "metadata": {},
   "outputs": [
    {
     "name": "stdout",
     "output_type": "stream",
     "text": [
      "Original List: [4, 8, 2, 10, 15, 18]\n",
      "After Cloning: [4, 8, 2, 10, 15, 18]\n"
     ]
    }
   ],
   "source": [
    "# Python program to copy or clone a list\n",
    "# Using the Slice Operator\n",
    "def Cloning(li1):\n",
    "\tli_copy = li1[:]\n",
    "\treturn li_copy\n",
    "\n",
    "\n",
    "# Driver Code\n",
    "li1 = [4, 8, 2, 10, 15, 18]\n",
    "li2 = Cloning(li1)\n",
    "print(\"Original List:\", li1)\n",
    "print(\"After Cloning:\", li2)\n"
   ]
  },
  {
   "cell_type": "code",
   "execution_count": 43,
   "id": "99890412-5d4a-4da1-8203-c27bfdaf97df",
   "metadata": {},
   "outputs": [
    {
     "name": "stdout",
     "output_type": "stream",
     "text": [
      "8 has occurred 5 times\n"
     ]
    }
   ],
   "source": [
    "# Python code to count the number of occurrences\n",
    "def countX(lst, x):\n",
    "\tcount = 0\n",
    "\tfor ele in lst:\n",
    "\t\tif (ele == x):\n",
    "\t\t\tcount = count + 1\n",
    "\treturn count\n",
    "\n",
    "\n",
    "# Driver Code\n",
    "lst = [8, 6, 8, 10, 8, 20, 10, 8, 8]\n",
    "x = 8\n",
    "print('{} has occurred {} times'.format(x,\n",
    "\t\t\t\t\t\t\t\t\t\tcountX(lst, x)))\n"
   ]
  },
  {
   "cell_type": "code",
   "execution_count": null,
   "id": "5592b502-1bf7-4149-9be0-63e3b0f81a2d",
   "metadata": {},
   "outputs": [],
   "source": []
  }
 ],
 "metadata": {
  "kernelspec": {
   "display_name": "Python 3 (ipykernel)",
   "language": "python",
   "name": "python3"
  },
  "language_info": {
   "codemirror_mode": {
    "name": "ipython",
    "version": 3
   },
   "file_extension": ".py",
   "mimetype": "text/x-python",
   "name": "python",
   "nbconvert_exporter": "python",
   "pygments_lexer": "ipython3",
   "version": "3.12.4"
  }
 },
 "nbformat": 4,
 "nbformat_minor": 5
}
