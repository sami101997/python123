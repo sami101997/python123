{
 "cells": [
  {
   "cell_type": "code",
   "execution_count": 54,
   "id": "2a98424f-3093-4e53-adeb-c34412a34b23",
   "metadata": {},
   "outputs": [],
   "source": [
    "def compute_lcm(x,y):\n",
    "    if x>y:\n",
    "        greater=x\n",
    "    else:\n",
    "        greater = y\n",
    "        while(True):\n",
    "            if((greater % x == 0) and (greater %y==0)):\n",
    "                lcm=greater\n",
    "                break\n",
    "                greater +=1\n",
    "                return lcm\n",
    "                num1=54\n",
    "                num2=24\n",
    "                print(\"The L.C.M. is\", compute_lcm(num1,num2))"
   ]
  },
  {
   "cell_type": "code",
   "execution_count": 36,
   "id": "33163a16-30a3-4d5e-b118-b8e93578f661",
   "metadata": {},
   "outputs": [
    {
     "name": "stdout",
     "output_type": "stream",
     "text": [
      "Hcf of 36 and 60 is 36\n",
      "Hcf of 36 and 60 is 12\n"
     ]
    }
   ],
   "source": [
    "num1=36\n",
    "num2=60\n",
    "a=num1\n",
    "b=num2\n",
    "while num1!=num2:\n",
    "    if num1>num2:\n",
    "        num1-=num2\n",
    "    else:\n",
    "        num2-=num1\n",
    "        print(\"Hcf of\", a,\"and\",b,\"is\",num1)"
   ]
  },
  {
   "cell_type": "code",
   "execution_count": 56,
   "id": "7cc6646e-5be0-4a8c-94f8-be9922eaebd0",
   "metadata": {},
   "outputs": [
    {
     "name": "stdout",
     "output_type": "stream",
     "text": [
      "The decimal value of 344 is:\n",
      "0b101011000 in binary.\n",
      "0o530 in octal.\n",
      "0x158 in hexadecimal.\n"
     ]
    }
   ],
   "source": [
    "# Python program to convert decimal into other number systems\n",
    "dec = 344\n",
    "\n",
    "print(\"The decimal value of\", dec, \"is:\")\n",
    "print(bin(dec), \"in binary.\")\n",
    "print(oct(dec), \"in octal.\")\n",
    "print(hex(dec), \"in hexadecimal.\")"
   ]
  },
  {
   "cell_type": "code",
   "execution_count": 58,
   "id": "49b30fba-a9e6-41d5-be4b-abb763108260",
   "metadata": {},
   "outputs": [
    {
     "name": "stdout",
     "output_type": "stream",
     "text": [
      "The ASCII value of 'p' is 112\n"
     ]
    }
   ],
   "source": [
    "# Program to find the ASCII value of the given character\n",
    "\n",
    "c = 'p'\n",
    "print(\"The ASCII value of '\" + c + \"' is\", ord(c))"
   ]
  },
  {
   "cell_type": "code",
   "execution_count": 60,
   "id": "87df56c9-b084-4e48-865f-7737b12c494e",
   "metadata": {},
   "outputs": [
    {
     "name": "stdout",
     "output_type": "stream",
     "text": [
      "Select operation.\n",
      "1.Add\n",
      "2.Subtract\n",
      "3.Multiply\n",
      "4.Divide\n"
     ]
    },
    {
     "name": "stdin",
     "output_type": "stream",
     "text": [
      "Enter choice(1/2/3/4):  4\n",
      "Enter first number:  1\n",
      "Enter second number:  2\n"
     ]
    },
    {
     "name": "stdout",
     "output_type": "stream",
     "text": [
      "1.0 / 2.0 = 0.5\n"
     ]
    },
    {
     "name": "stdin",
     "output_type": "stream",
     "text": [
      "Let's do next calculation? (yes/no):  no\n"
     ]
    }
   ],
   "source": [
    "# This function adds two numbers\n",
    "def add(x, y):\n",
    "    return x + y\n",
    "\n",
    "# This function subtracts two numbers\n",
    "def subtract(x, y):\n",
    "    return x - y\n",
    "\n",
    "# This function multiplies two numbers\n",
    "def multiply(x, y):\n",
    "    return x * y\n",
    "\n",
    "# This function divides two numbers\n",
    "def divide(x, y):\n",
    "    return x / y\n",
    "\n",
    "\n",
    "print(\"Select operation.\")\n",
    "print(\"1.Add\")\n",
    "print(\"2.Subtract\")\n",
    "print(\"3.Multiply\")\n",
    "print(\"4.Divide\")\n",
    "\n",
    "while True:\n",
    "    # take input from the user\n",
    "    choice = input(\"Enter choice(1/2/3/4): \")\n",
    "\n",
    "    # check if choice is one of the four options\n",
    "    if choice in ('1', '2', '3', '4'):\n",
    "        try:\n",
    "            num1 = float(input(\"Enter first number: \"))\n",
    "            num2 = float(input(\"Enter second number: \"))\n",
    "        except ValueError:\n",
    "            print(\"Invalid input. Please enter a number.\")\n",
    "            continue\n",
    "\n",
    "        if choice == '1':\n",
    "            print(num1, \"+\", num2, \"=\", add(num1, num2))\n",
    "\n",
    "        elif choice == '2':\n",
    "            print(num1, \"-\", num2, \"=\", subtract(num1, num2))\n",
    "\n",
    "        elif choice == '3':\n",
    "            print(num1, \"*\", num2, \"=\", multiply(num1, num2))\n",
    "\n",
    "        elif choice == '4':\n",
    "            print(num1, \"/\", num2, \"=\", divide(num1, num2))\n",
    "        \n",
    "        # check if user wants another calculation\n",
    "        # break the while loop if answer is no\n",
    "        next_calculation = input(\"Let's do next calculation? (yes/no): \")\n",
    "        if next_calculation == \"no\":\n",
    "          break\n",
    "    else:\n",
    "        print(\"Invalid Input\")"
   ]
  },
  {
   "cell_type": "code",
   "execution_count": null,
   "id": "f6db0dd3-507a-4b11-b719-31dbb416d762",
   "metadata": {},
   "outputs": [],
   "source": []
  }
 ],
 "metadata": {
  "kernelspec": {
   "display_name": "Python 3 (ipykernel)",
   "language": "python",
   "name": "python3"
  },
  "language_info": {
   "codemirror_mode": {
    "name": "ipython",
    "version": 3
   },
   "file_extension": ".py",
   "mimetype": "text/x-python",
   "name": "python",
   "nbconvert_exporter": "python",
   "pygments_lexer": "ipython3",
   "version": "3.12.4"
  }
 },
 "nbformat": 4,
 "nbformat_minor": 5
}
