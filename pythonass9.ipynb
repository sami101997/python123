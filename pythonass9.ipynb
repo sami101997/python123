{
 "cells": [
  {
   "cell_type": "code",
   "execution_count": 1,
   "id": "44ae261d-69a5-4e39-b460-30efc5d749d1",
   "metadata": {},
   "outputs": [
    {
     "name": "stdout",
     "output_type": "stream",
     "text": [
      "Disarium Number\n"
     ]
    }
   ],
   "source": [
    "# Python program to check whether a number is Disarium\n",
    "# or not\n",
    "import math \n",
    "# Method to check whether a number is disarium or not\n",
    "def check(n) :\n",
    "\t# Count digits in n.\n",
    "\tcount_digits = len(str(n))\n",
    "\t# Compute sum of terms like digit multiplied by\n",
    "\t# power of position\n",
    "\tsum = 0 # Initialize sum of terms\n",
    "\tx = n\n",
    "\twhile (x!=0) :\n",
    "\t\t# Get the rightmost digit\n",
    "\t\tr = x % 10\n",
    "\t\t# Sum the digits by powering according to\n",
    "\t\t# the positions\n",
    "\t\tsum = (int) (sum + math.pow(r, count_digits))\n",
    "\t\tcount_digits = count_digits - 1\n",
    "\t\tx = x//10\n",
    "\t# If sum is same as number, then number is\n",
    "\tif sum == n :\n",
    "\t\treturn 1\n",
    "\telse :\n",
    "\t\treturn 0\n",
    "# Driver method\n",
    "n = 135\n",
    "if (check(n) == 1) :\n",
    "\tprint (\"Disarium Number\")\n",
    "else :\n",
    "\tprint (\"Not a Disarium Number\")\n"
   ]
  },
  {
   "cell_type": "code",
   "execution_count": 3,
   "id": "974a5021-1787-4079-871b-16a958952c5a",
   "metadata": {},
   "outputs": [
    {
     "name": "stdout",
     "output_type": "stream",
     "text": [
      "The disarium numbers between 1 and 100 are : \n",
      "1\n",
      "2\n",
      "3\n",
      "4\n",
      "5\n",
      "6\n",
      "7\n",
      "8\n",
      "9\n",
      "89\n"
     ]
    }
   ],
   "source": [
    "def length_calculation(my_val):\n",
    "   len_val = 0\n",
    "   while(my_val != 0):\n",
    "      len_val = len_val + 1\n",
    "      my_val = my_val//10\n",
    "   return len_val\n",
    "def digit_sum(my_num):\n",
    "   remaining = sum_val = 0\n",
    "   len_fun = length_calculation(my_num)\n",
    "   while(my_num > 0):\n",
    "      remaining = my_num%10\n",
    "      sum_val = sum_val + (remaining**len_fun)\n",
    "      my_num = my_num//10\n",
    "      len_fun = len_fun - 1\n",
    "   return sum_val\n",
    "ini_result = 0\n",
    "print(\"The disarium numbers between 1 and 100 are : \")\n",
    "for i in range(1, 101):\n",
    "   ini_result = digit_sum(i)\n",
    "   if(ini_result == i):\n",
    "      print(i)"
   ]
  },
  {
   "cell_type": "code",
   "execution_count": 5,
   "id": "72dad05e-da6f-43c2-b1b1-90aefa77984d",
   "metadata": {},
   "outputs": [
    {
     "name": "stdout",
     "output_type": "stream",
     "text": [
      "False\n"
     ]
    }
   ],
   "source": [
    "# Function to return the sum of squares of digits of n\n",
    "def numSquareSum(n):\n",
    "    squareSum = 0\n",
    "    while (n != 0):\n",
    "        squareSum += (n % 10) * (n % 10)\n",
    "        n = n // 10\n",
    "    return squareSum\n",
    "\n",
    "# Function to return true if n is a Happy Number\n",
    "def isHappyNumber(n):\n",
    "    st = set()\n",
    "    while (1):\n",
    "        n = numSquareSum(n)\n",
    "        if (n == 1):\n",
    "            return True\n",
    "        if n in st:\n",
    "            return False\n",
    "        st.add(n)\n",
    "\n",
    "# Example usage:\n",
    "print(isHappyNumber(20))  \n"
   ]
  },
  {
   "cell_type": "code",
   "execution_count": 7,
   "id": "554c6ce5-9be2-42cc-8e7a-aed77ed64186",
   "metadata": {},
   "outputs": [
    {
     "name": "stdout",
     "output_type": "stream",
     "text": [
      "List of happy numbers between 1 and 100: \n",
      "1\n",
      " \n",
      "7\n",
      " \n",
      "10\n",
      " \n",
      "13\n",
      " \n",
      "19\n",
      " \n",
      "23\n",
      " \n",
      "28\n",
      " \n",
      "31\n",
      " \n",
      "32\n",
      " \n",
      "44\n",
      " \n",
      "49\n",
      " \n",
      "68\n",
      " \n",
      "70\n",
      " \n",
      "79\n",
      " \n",
      "82\n",
      " \n",
      "86\n",
      " \n",
      "91\n",
      " \n",
      "94\n",
      " \n",
      "97\n",
      " \n",
      "100\n",
      " \n"
     ]
    }
   ],
   "source": [
    "#isHappyNumber() will determine whether a number is happy or not  \n",
    "def isHappyNumber(num):  \n",
    "    rem = sum = 0;  \n",
    "    #Calculates the sum of squares of digits  \n",
    "    while(num > 0):  \n",
    "        rem = num%10;  \n",
    "        sum = sum + (rem*rem);  \n",
    "        num = num//10;  \n",
    "    return sum;  \n",
    "#Displays all happy numbers between 1 and 100  \n",
    "print(\"List of happy numbers between 1 and 100: \");  \n",
    "for i in range(1, 101):  \n",
    "    result = i;  \n",
    "    #Happy number always ends with 1 and   \n",
    "    #unhappy number ends in a cycle of repeating numbers which contains 4  \n",
    "    while(result != 1 and result != 4):  \n",
    "        result = isHappyNumber(result);  \n",
    "    if(result == 1):  \n",
    "        print(i),  \n",
    "        print(\" \"),  "
   ]
  },
  {
   "cell_type": "code",
   "execution_count": 11,
   "id": "a7ff8187-0665-43b1-9547-d68877e51979",
   "metadata": {},
   "outputs": [
    {
     "name": "stdout",
     "output_type": "stream",
     "text": [
      "Yes\n",
      "No\n"
     ]
    }
   ],
   "source": [
    "def checkHarshad(n):\n",
    "    sum = 0\n",
    "    temp = n\n",
    "    while temp > 0:\n",
    "        sum = sum + temp % 10\n",
    "        temp = temp // 10\n",
    "    # Return true if sum of digits is multiple of n\n",
    "    return n % sum == 0\n",
    "if(checkHarshad(12)):\n",
    "    print(\"Yes\")\n",
    "else:\n",
    "    print(\"No\")\n",
    "\n",
    "if (checkHarshad(15)):\n",
    "    print(\"Yes\")\n",
    "else:\n",
    "    print(\"No\")\n",
    "\n"
   ]
  },
  {
   "cell_type": "code",
   "execution_count": 13,
   "id": "a86976f6-4678-4182-bb74-e306f930f06f",
   "metadata": {},
   "outputs": [
    {
     "name": "stdout",
     "output_type": "stream",
     "text": [
      "Pronic numbers between 1 and 100: \n",
      "2\n",
      " \n",
      "6\n",
      " \n",
      "12\n",
      " \n",
      "20\n",
      " \n",
      "30\n",
      " \n",
      "42\n",
      " \n",
      "56\n",
      " \n",
      "72\n",
      " \n",
      "90\n",
      " \n"
     ]
    }
   ],
   "source": [
    "#isPronicNumber() will determine whether a given number is a pronic number or not    \n",
    "def isPronicNumber(num):    \n",
    "    flag = False;    \n",
    "        \n",
    "    for j in range(1, num+1):    \n",
    "        #Checks for pronic number by multiplying consecutive numbers    \n",
    "        if((j*(j+1)) == num):    \n",
    "            flag = True;    \n",
    "            break;    \n",
    "    return flag;    \n",
    "     \n",
    "#Displays pronic numbers between 1 and 100    \n",
    "print(\"Pronic numbers between 1 and 100: \");    \n",
    "for i in range(1, 101):    \n",
    "    if(isPronicNumber(i)):    \n",
    "        print(i),    \n",
    "        print(\" \"),    "
   ]
  },
  {
   "cell_type": "code",
   "execution_count": null,
   "id": "67400f9b-9f86-4a01-b5a9-b8a562f1e25b",
   "metadata": {},
   "outputs": [],
   "source": []
  }
 ],
 "metadata": {
  "kernelspec": {
   "display_name": "Python 3 (ipykernel)",
   "language": "python",
   "name": "python3"
  },
  "language_info": {
   "codemirror_mode": {
    "name": "ipython",
    "version": 3
   },
   "file_extension": ".py",
   "mimetype": "text/x-python",
   "name": "python",
   "nbconvert_exporter": "python",
   "pygments_lexer": "ipython3",
   "version": "3.12.4"
  }
 },
 "nbformat": 4,
 "nbformat_minor": 5
}
