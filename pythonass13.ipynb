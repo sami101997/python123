{
 "cells": [
  {
   "cell_type": "code",
   "execution_count": 30,
   "id": "987e6565-1034-4106-92ac-693f77450b95",
   "metadata": {},
   "outputs": [
    {
     "name": "stdin",
     "output_type": "stream",
     "text": [
      " 180\n"
     ]
    },
    {
     "name": "stdout",
     "output_type": "stream",
     "text": [
      "24\n"
     ]
    }
   ],
   "source": [
    "import math\n",
    "\n",
    "c=50\n",
    "h=30\n",
    "value = []\n",
    "\n",
    "items=[x for x in input().split(',')]\n",
    "for d in items:\n",
    "    value.append(str(int(round(math.sqrt(2*c*float(d)/h)))))\n",
    "print(','.join(value))      "
   ]
  },
  {
   "cell_type": "code",
   "execution_count": 51,
   "id": "ac8a74aa-8106-4634-b494-185e439c889f",
   "metadata": {},
   "outputs": [
    {
     "name": "stdin",
     "output_type": "stream",
     "text": [
      "insert row \n",
      ":  2\n",
      "insert col \n",
      ":  2\n"
     ]
    },
    {
     "name": "stdout",
     "output_type": "stream",
     "text": [
      "[[0, 0], [0, 1]]\n"
     ]
    }
   ],
   "source": [
    "row= int(input(\"insert row \\n: \"))\n",
    "col = int(input(\"insert col \\n: \"))\n",
    " \n",
    "def d_array(r,c):\n",
    "   array = [[i*j for j in range(c)] for i in range(r)]\n",
    "   return array\n",
    " \n",
    "print(d_array(row,col))\n"
   ]
  },
  {
   "cell_type": "code",
   "execution_count": 50,
   "id": "98b56e68-47a8-4e74-ae1e-0b42c46546d8",
   "metadata": {},
   "outputs": [
    {
     "name": "stdout",
     "output_type": "stream",
     "text": [
      "The keys in alphabetical order:\n",
      "a\n",
      "b\n",
      "e\n",
      "f\n",
      "j\n",
      "n\n"
     ]
    }
   ],
   "source": [
    "### 3. Write a program that accepts a comma separated sequence of words as input and prints the words in a comma-separated \n",
    "#sequence after sorting them alphabetically.\n",
    "\n",
    "list=('janfeb')\n",
    "print(\"The keys in alphabetical order:\")\n",
    "for key in sorted(list):\n",
    "    print(key)"
   ]
  },
  {
   "cell_type": "code",
   "execution_count": 5,
   "id": "0136f4e6-7c30-4f56-a2ab-5af4532e6ff3",
   "metadata": {},
   "outputs": [
    {
     "name": "stdin",
     "output_type": "stream",
     "text": [
      "Type in:  hello tirthu im your mommy\n"
     ]
    },
    {
     "name": "stdout",
     "output_type": "stream",
     "text": [
      "hello im mommy tirthu your\n"
     ]
    }
   ],
   "source": [
    "#4. Write a program that accepts a sequence of whitespace separated words as input \n",
    "#and prints the words after removing all duplicate words and sorting them alphanumerically.\n",
    "phrase = input(\"Type in: \")\n",
    "phrase_splited = phrase.split(' ')\n",
    "\n",
    "word_list = []\n",
    "for i in phrase_splited:\n",
    "    if i not in word_list:\n",
    "        word_list.append(i)\n",
    "    else:\n",
    "        continue\n",
    "word_list.sort()\n",
    "print((' ').join(word_list))"
   ]
  },
  {
   "cell_type": "code",
   "execution_count": 46,
   "id": "32ccd3e0-74a8-40a4-b840-c04307382d6f",
   "metadata": {},
   "outputs": [
    {
     "name": "stdout",
     "output_type": "stream",
     "text": [
      "Number of digit is 4\n",
      "Number of alphabes is 6\n"
     ]
    }
   ],
   "source": [
    "#program that accepts a sentence and calculate the number of letters and digits.\n",
    "alpha=0\n",
    "string=\"Python1234\"\n",
    "for i in string:\n",
    "    if i.isalpha():\n",
    "        alpha+=1\n",
    "print(\"Number of digit is\", len(string)-alpha)\n",
    "print(\"Number of alphabes is\",alpha)"
   ]
  },
  {
   "cell_type": "code",
   "execution_count": 163,
   "id": "ac17fd94-9067-4255-b5a2-e7b94de8f7f6",
   "metadata": {},
   "outputs": [],
   "source": [
    "# A website requires the users to input username and password to register. Write a program to check the validity of password input by users.\n",
    "def validate_password(password):\n",
    "    if len(password)<8 or len(password)>20:\n",
    "        return False\n",
    "        if not any(char.isupper() for char in password):\n",
    "            return False\n",
    "        if not any(char.islower() for char in password):\n",
    "            return False\n",
    "        if not any(char.isdigit() for char in password):\n",
    "            return False\n",
    "        if not snt(not char.isalnum() for char in password):\n",
    "            return False\n",
    "        else:\n",
    "            return True\n",
    "            username =input(\"Enter username\")\n",
    "            password =input(\"Enter password:\")\n",
    "            if validate_password(password):\n",
    "                    print(\"Password is valid\")\n",
    "            else:\n",
    "                    print(\"Password is invalid. please try again.\")"
   ]
  },
  {
   "cell_type": "code",
   "execution_count": null,
   "id": "3a882f24-69c9-40b1-b046-d2eea8ad5ac9",
   "metadata": {},
   "outputs": [],
   "source": []
  }
 ],
 "metadata": {
  "kernelspec": {
   "display_name": "Python 3 (ipykernel)",
   "language": "python",
   "name": "python3"
  },
  "language_info": {
   "codemirror_mode": {
    "name": "ipython",
    "version": 3
   },
   "file_extension": ".py",
   "mimetype": "text/x-python",
   "name": "python",
   "nbconvert_exporter": "python",
   "pygments_lexer": "ipython3",
   "version": "3.12.4"
  }
 },
 "nbformat": 4,
 "nbformat_minor": 5
}
